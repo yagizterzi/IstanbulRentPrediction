{
 "cells": [
  {
   "cell_type": "markdown",
   "metadata": {},
   "source": [
    "# Import Required Libraries\n",
    "Import the necessary libraries, including pandas, scikit-learn, and matplotlib."
   ]
  },
  {
   "cell_type": "code",
   "execution_count": null,
   "metadata": {},
   "outputs": [],
   "source": [
    "# Import Required Libraries\n",
    "import pandas as pd\n",
    "from sklearn.model_selection import train_test_split\n",
    "from sklearn.ensemble import RandomForestRegressor\n",
    "from sklearn.metrics import mean_squared_error, r2_score\n",
    "import re\n",
    "import matplotlib.pyplot as plt"
   ]
  },
  {
   "cell_type": "markdown",
   "metadata": {},
   "source": [
    "# Load and Combine Datasets\n",
    "Load the datasets from CSV files, extract dates from filenames, and combine them into a single DataFrame."
   ]
  },
  {
   "cell_type": "code",
   "execution_count": null,
   "metadata": {},
   "outputs": [],
   "source": [
    "# Load and Combine Datasets\n",
    "\n",
    "# Define the file paths\n",
    "files = [\n",
    "    r'C:\\Users\\yagiz\\OneDrive\\Masaüstü\\Uygulamalar\\kodlar\\ist_rent\\dataset\\5_9_2022_sahibinden_ev.csv',\n",
    "    r'C:\\Users\\yagiz\\OneDrive\\Masaüstü\\Uygulamalar\\kodlar\\ist_rent\\dataset\\22_5_2022_sahibinden_ev.csv',\n",
    "    r'C:\\Users\\yagiz\\OneDrive\\Masaüstü\\Uygulamalar\\kodlar\\ist_rent\\dataset\\26_5_2022_sahibinden_ev.csv'\n",
    "]\n",
    "\n",
    "# Initialize an empty list to store DataFrames\n",
    "dataframes = []\n",
    "\n",
    "# Loop through each file and load the data\n",
    "for file in files:\n",
    "    df = pd.read_csv(file)\n",
    "    \n",
    "    # Extract the date from the filename\n",
    "    date_match = re.search(r'(\\d{1,2})_(\\d{1,2})_(\\d{4})', file)\n",
    "    if date_match:\n",
    "        day, month, year = map(int, date_match.groups())\n",
    "        df['date'] = pd.Timestamp(year=year, month=month, day=day)\n",
    "    \n",
    "    # Append the DataFrame to the list\n",
    "    dataframes.append(df)\n",
    "\n",
    "# Combine all DataFrames into a single DataFrame\n",
    "data = pd.concat(dataframes, ignore_index=True)\n",
    "\n",
    "# Display a message indicating that the data has been loaded and combined\n",
    "print(\"Veri yüklendi ve birleştirildi.\")"
   ]
  },
  {
   "cell_type": "markdown",
   "metadata": {},
   "source": [
    "# Clean the Data\n",
    "Remove missing values, convert columns to numeric types, and clean invalid data."
   ]
  },
  {
   "cell_type": "code",
   "execution_count": null,
   "metadata": {},
   "outputs": [],
   "source": [
    "# Clean the Data\n",
    "\n",
    "# Remove missing values\n",
    "data = data.dropna()\n",
    "print(\"Eksik veriler temizlendi.\")\n",
    "\n",
    "# Convert columns to numeric types\n",
    "data['price'] = pd.to_numeric(data['price'].replace('[^0-9]', '', regex=True), errors='coerce')\n",
    "data['area'] = pd.to_numeric(data['area'].replace('[^0-9]', '', regex=True), errors='coerce')\n",
    "data['rooms'] = pd.to_numeric(data['numberOfRooms'].replace('[^0-9]', '', regex=True), errors='coerce')\n",
    "\n",
    "# Remove invalid data\n",
    "data = data.dropna()\n",
    "print(\"Geçersiz veriler temizlendi.\")"
   ]
  },
  {
   "cell_type": "markdown",
   "metadata": {},
   "source": [
    "# Feature and Target Selection\n",
    "Select features (area, rooms, town, year) and target variable (price) for the model."
   ]
  },
  {
   "cell_type": "code",
   "execution_count": null,
   "metadata": {},
   "outputs": [],
   "source": [
    "# Feature and Target Selection\n",
    "\n",
    "# Select features (area, rooms, town, year) and target variable (price)\n",
    "X = data[['area', 'rooms', 'town', 'date']]  # Features\n",
    "y = data['price']  # Target variable\n",
    "\n",
    "# Extract year from date for the 'year' feature\n",
    "X['year'] = X['date'].dt.year\n",
    "\n",
    "# Drop the 'date' column as it's no longer needed\n",
    "X = X.drop(columns=['date'])\n",
    "\n",
    "# Encode categorical variables (town) using one-hot encoding\n",
    "X = pd.get_dummies(X, columns=['town'], drop_first=True)\n",
    "\n",
    "# Display the first few rows of the feature set and target variable\n",
    "X.head(), y.head()"
   ]
  },
  {
   "cell_type": "markdown",
   "metadata": {},
   "source": [
    "# Encode Categorical Variables\n",
    "Encode categorical variables like town using one-hot encoding."
   ]
  },
  {
   "cell_type": "code",
   "execution_count": null,
   "metadata": {},
   "outputs": [],
   "source": [
    "# Encode Categorical Variables\n",
    "\n",
    "# Encode categorical variables (town) using one-hot encoding\n",
    "X = pd.get_dummies(X, columns=['town'], drop_first=True)\n",
    "\n",
    "# Display the first few rows of the feature set and target variable\n",
    "X.head(), y.head()"
   ]
  },
  {
   "cell_type": "markdown",
   "metadata": {},
   "source": [
    "# Split Data into Training and Test Sets\n",
    "Split the data into training and test sets using train_test_split."
   ]
  },
  {
   "cell_type": "code",
   "execution_count": null,
   "metadata": {},
   "outputs": [],
   "source": [
    "# Split Data into Training and Test Sets\n",
    "\n",
    "# Split the data into training and test sets using train_test_split\n",
    "X_train, X_test, y_train, y_test = train_test_split(X, y, test_size=0.2, random_state=42)\n",
    "\n",
    "# Display the shapes of the training and test sets\n",
    "X_train.shape, X_test.shape, y_train.shape, y_test.shape"
   ]
  },
  {
   "cell_type": "markdown",
   "metadata": {},
   "source": [
    "# Train the Model\n",
    "Train a RandomForestRegressor model using the training data."
   ]
  },
  {
   "cell_type": "code",
   "execution_count": null,
   "metadata": {},
   "outputs": [],
   "source": [
    "# Train the Model\n",
    "\n",
    "# Initialize the RandomForestRegressor model\n",
    "model = RandomForestRegressor(n_estimators=100, random_state=42)\n",
    "\n",
    "# Train the model using the training data\n",
    "model.fit(X_train, y_train)\n",
    "\n",
    "# Display a message indicating that the model has been trained\n",
    "print(\"Model eğitildi.\")"
   ]
  },
  {
   "cell_type": "markdown",
   "metadata": {},
   "source": [
    "# Evaluate the Model\n",
    "Evaluate the model using mean squared error (MSE) and R² score."
   ]
  },
  {
   "cell_type": "code",
   "execution_count": null,
   "metadata": {},
   "outputs": [],
   "source": [
    "# Evaluate the Model\n",
    "\n",
    "# Make predictions using the test data\n",
    "predictions = model.predict(X_test)\n",
    "\n",
    "# Calculate Mean Squared Error (MSE)\n",
    "mse = mean_squared_error(y_test, predictions)\n",
    "\n",
    "# Calculate R² Score\n",
    "r2 = r2_score(y_test, predictions)\n",
    "\n",
    "# Print the evaluation metrics\n",
    "print(f'Model Mean Squared Error: {mse}')\n",
    "print(f'Model R² Score: {r2}')\n",
    "\n",
    "# Plotting the predictions vs actual values\n",
    "plt.figure(figsize=(10, 6))\n",
    "plt.scatter(y_test, predictions, alpha=0.5)\n",
    "plt.plot([y_test.min(), y_test.max()], [y_test.min(), y_test.max()], 'k--', lw=2)\n",
    "plt.xlabel('Actual')\n",
    "plt.ylabel('Predicted')\n",
    "plt.title('Actual vs Predicted Rent Prices')\n",
    "plt.grid(True)\n",
    "plt.show()\n",
    "\n",
    "# Plotting the R² graph\n",
    "plt.figure(figsize=(10, 6))\n",
    "plt.scatter(y_test, predictions, alpha=0.7, color='blue', label='Predictions')\n",
    "plt.plot([y_test.min(), y_test.max()], [y_test.min(), y_test.max()], 'r--', label='Perfect Fit (y=x)')\n",
    "plt.title(f'Real vs Predicted Values (R²: {r2:.2f})', fontsize=14)\n",
    "plt.xlabel('Real Values (y_test)', fontsize=12)\n",
    "plt.ylabel('Predicted Values', fontsize=12)\n",
    "plt.legend()\n",
    "plt.grid(True)\n",
    "plt.tight_layout()\n",
    "plt.show()\n",
    "\n",
    "# Plotting the MSE graph\n",
    "plt.figure(figsize=(10, 6))\n",
    "plt.bar(['Mean Squared Error'], [mse])\n",
    "plt.title('Model Mean Squared Error')\n",
    "plt.ylabel('Error')\n",
    "plt.grid(True)\n",
    "plt.show()"
   ]
  },
  {
   "cell_type": "markdown",
   "metadata": {},
   "source": [
    "# Prepare Data for Future Predictions\n",
    "Prepare data for future predictions from 2022 to 2025."
   ]
  },
  {
   "cell_type": "code",
   "execution_count": null,
   "metadata": {},
   "outputs": [],
   "source": [
    "# Prepare Data for Future Predictions\n",
    "\n",
    "# Define the future years for prediction\n",
    "future_years = pd.date_range(start='2022', end='2025', freq='Y').year\n",
    "\n",
    "# Create a DataFrame for future data\n",
    "future_data = pd.DataFrame({\n",
    "    'area': [85] * len(future_years),\n",
    "    'rooms': [3] * len(future_years),\n",
    "    'year': future_years,\n",
    "    'town_Büyükada': [1] * len(future_years)  # Example dummy value for a specific town\n",
    "})\n",
    "\n",
    "# Identify missing columns in the future data\n",
    "missing_cols = set(X.columns) - set(future_data.columns)\n",
    "\n",
    "# Add missing columns to the future data with default values\n",
    "for col in missing_cols:\n",
    "    future_data[col] = 0\n",
    "\n",
    "# Ensure the future data columns match the training data columns\n",
    "future_data = future_data[X.columns]\n",
    "\n",
    "# Display a message indicating that the future data is ready\n",
    "print(\"Gelecek yıllar için veri hazırlandı.\")\n",
    "\n",
    "# Make predictions for future years\n",
    "future_predictions = model.predict(future_data)\n",
    "\n",
    "# Display a message indicating that predictions have been made\n",
    "print(\"Gelecek yıllar için tahminler yapıldı.\")\n",
    "\n",
    "# Plot the future predictions\n",
    "plt.figure(figsize=(10, 6))\n",
    "plt.plot(future_years, future_predictions, label='Predicted Prices')\n",
    "plt.xlabel('Year')\n",
    "plt.ylabel('Price (Million TL)')\n",
    "plt.title('Predicted Rent Prices from 2022 to 2025')\n",
    "plt.legend()\n",
    "plt.grid(True)\n",
    "plt.show()"
   ]
  },
  {
   "cell_type": "markdown",
   "metadata": {},
   "source": [
    "# Plot Predictions vs Actual Values\n",
    "Plot the predicted vs actual rent prices for the test set."
   ]
  },
  {
   "cell_type": "code",
   "execution_count": null,
   "metadata": {},
   "outputs": [],
   "source": [
    "# Plot Predictions vs Actual Values\n",
    "\n",
    "# Plotting the predictions vs actual values\n",
    "plt.figure(figsize=(10, 6))\n",
    "plt.scatter(y_test, predictions, alpha=0.5)\n",
    "plt.plot([y_test.min(), y_test.max()], [y_test.min(), y_test.max()], 'k--', lw=2)\n",
    "plt.xlabel('Actual')\n",
    "plt.ylabel('Predicted')\n",
    "plt.title('Actual vs Predicted Rent Prices')\n",
    "plt.grid(True)\n",
    "plt.show()"
   ]
  },
  {
   "cell_type": "markdown",
   "metadata": {},
   "source": [
    "# Plot Future Predictions\n",
    "Plot the predicted rent prices from 2022 to 2025."
   ]
  },
  {
   "cell_type": "code",
   "execution_count": null,
   "metadata": {},
   "outputs": [],
   "source": [
    "# Plot Future Predictions\n",
    "\n",
    "# Plot the future predictions\n",
    "plt.figure(figsize=(10, 6))\n",
    "plt.plot(future_years, future_predictions, label='Predicted Prices')\n",
    "plt.xlabel('Year')\n",
    "plt.ylabel('Price (Million TL)')\n",
    "plt.title('Predicted Rent Prices from 2022 to 2025')\n",
    "plt.legend()\n",
    "plt.grid(True)\n",
    "plt.show()"
   ]
  },
  {
   "cell_type": "markdown",
   "metadata": {},
   "source": [
    "# Plot R² Graph\n",
    "Plot the R² graph to visualize the model's performance."
   ]
  },
  {
   "cell_type": "code",
   "execution_count": null,
   "metadata": {},
   "outputs": [],
   "source": [
    "# Plot R² Graph\n",
    "\n",
    "# Plotting the R² graph to visualize the model's performance\n",
    "plt.figure(figsize=(10, 6))\n",
    "plt.scatter(y_test, predictions, alpha=0.7, color='blue', label='Predictions')\n",
    "plt.plot([y_test.min(), y_test.max()], [y_test.min(), y_test.max()], 'r--', label='Perfect Fit (y=x)')\n",
    "plt.title(f'Real vs Predicted Values (R²: {r2:.2f})', fontsize=14)\n",
    "plt.xlabel('Real Values (y_test)', fontsize=12)\n",
    "plt.ylabel('Predicted Values', fontsize=12)\n",
    "plt.legend()\n",
    "plt.grid(True)\n",
    "plt.tight_layout()\n",
    "plt.show()"
   ]
  },
  {
   "cell_type": "markdown",
   "metadata": {},
   "source": [
    "# Plot MSE Graph\n",
    "Plot the mean squared error graph to visualize the model's error."
   ]
  },
  {
   "cell_type": "code",
   "execution_count": null,
   "metadata": {},
   "outputs": [],
   "source": [
    "# Plot MSE Graph\n",
    "\n",
    "# Plotting the Mean Squared Error (MSE) graph to visualize the model's error\n",
    "plt.figure(figsize=(10, 6))\n",
    "plt.bar(['Mean Squared Error'], [mse])\n",
    "plt.title('Model Mean Squared Error')\n",
    "plt.ylabel('Error')\n",
    "plt.grid(True)\n",
    "plt.show()"
   ]
  }
 ],
 "metadata": {
  "kernelspec": {
   "display_name": "Python 3",
   "language": "python",
   "name": "python3"
  },
  "language_info": {
   "name": "python",
   "version": "3.11.9"
  }
 },
 "nbformat": 4,
 "nbformat_minor": 2
}
